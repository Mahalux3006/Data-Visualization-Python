{
 "cells": [
  {
   "cell_type": "markdown",
   "id": "20ce4320",
   "metadata": {},
   "source": [
    "Q1.Data science problems on reading, concatenating, Data manipulation, and saving Data.\n",
    "\n",
    "In the Data Science project, for analyzing climate data to predict corp yield from various stations, climate data are captured from ten various stations ie.climate_data_station1.csv to climate_data_station10.csv\n",
    "File url_link=https://github.com/svkarthik86/Advanced-python/tree/main/climate_project\n",
    "n \n",
    "as Data analytics you have to read all files generated from stations and concatenate all files into one single data.\n",
    "and then calculate corp yield.\n",
    "\n",
    "for calculating the corp yield as a weighted sum of the temperature, rainfall, and humidity\n",
    "yield_of_corp  = w1 * temperature + w2 * rainfall + w3 * humidity\n",
    "w1, w2, w3 = 0.3, 0.2, 0.5\n",
    "\n",
    "using the above information to generate yield_of_corp data and then concatenate yield_of_corp as the last column in climate_data.\n",
    "finally, save the result to climate_result.csv"
   ]
  },
  {
   "cell_type": "code",
   "execution_count": 65,
   "id": "27fe6b0c",
   "metadata": {},
   "outputs": [
    {
     "name": "stdout",
     "output_type": "stream",
     "text": [
      "[[25. 76. 99.]\n",
      " [39. 65. 70.]\n",
      " [59. 45. 77.]\n",
      " ...\n",
      " [99. 62. 58.]\n",
      " [70. 71. 91.]\n",
      " [92. 39. 76.]]\n"
     ]
    }
   ],
   "source": [
    "import numpy as np\n",
    "import os\n",
    "os.listdir()\n",
    "a=np.array([])\n",
    "b=np.concatenate([np.genfromtxt(f\"climate_data_station{i}.csv\",delimiter=',',skip_header=True)for i in range(1,11)])\n",
    "print(b)"
   ]
  },
  {
   "cell_type": "code",
   "execution_count": 14,
   "id": "3efce5ae",
   "metadata": {},
   "outputs": [
    {
     "name": "stdout",
     "output_type": "stream",
     "text": [
      "0.3 0.2 0.5\n"
     ]
    }
   ],
   "source": [
    "w1, w2, w3 = 0.3, 0.2, 0.5\n",
    "print(w1,w2,w3)"
   ]
  },
  {
   "cell_type": "code",
   "execution_count": 67,
   "id": "d99e6808",
   "metadata": {},
   "outputs": [],
   "source": [
    "result=[]\n",
    "yield_of_corp=w1*b[:,0] + w2*b[:,1] + w3*b[:,2]\n",
    "data=np.column_stack((b,yield_of_corp))\n",
    "result.append(data)\n",
    "result=np.concatenate(result, axis=0)\n",
    "np.savetxt('final_result.csv',result,delimiter=' , ',fmt='%0.1f')"
   ]
  },
  {
   "cell_type": "code",
   "execution_count": null,
   "id": "d4d30bc2",
   "metadata": {},
   "outputs": [],
   "source": []
  }
 ],
 "metadata": {
  "kernelspec": {
   "display_name": "Python 3 (ipykernel)",
   "language": "python",
   "name": "python3"
  },
  "language_info": {
   "codemirror_mode": {
    "name": "ipython",
    "version": 3
   },
   "file_extension": ".py",
   "mimetype": "text/x-python",
   "name": "python",
   "nbconvert_exporter": "python",
   "pygments_lexer": "ipython3",
   "version": "3.9.12"
  }
 },
 "nbformat": 4,
 "nbformat_minor": 5
}
